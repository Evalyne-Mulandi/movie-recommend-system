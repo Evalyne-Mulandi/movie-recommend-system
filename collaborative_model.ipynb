{
  "cells": [
    {
      "cell_type": "markdown",
      "metadata": {
        "id": "view-in-github",
        "colab_type": "text"
      },
      "source": [
        "<a href=\"https://colab.research.google.com/github/Evalyne-Mulandi/movie-recommend-system/blob/main/collaborative_model.ipynb\" target=\"_parent\"><img src=\"https://colab.research.google.com/assets/colab-badge.svg\" alt=\"Open In Colab\"/></a>"
      ]
    },
    {
      "cell_type": "code",
      "execution_count": null,
      "id": "416f1140",
      "metadata": {
        "id": "416f1140"
      },
      "outputs": [],
      "source": [
        "import pandas as pd\n",
        "from scipy import sparse\n",
        "from sklearn.metrics.pairwise import cosine_similarity"
      ]
    },
    {
      "cell_type": "code",
      "execution_count": null,
      "id": "490e714e",
      "metadata": {
        "id": "490e714e",
        "outputId": "ba1d418c-b0f6-41c3-fbcc-ef0b440ca58c"
      },
      "outputs": [
        {
          "data": {
            "text/html": [
              "<div>\n",
              "<style scoped>\n",
              "    .dataframe tbody tr th:only-of-type {\n",
              "        vertical-align: middle;\n",
              "    }\n",
              "\n",
              "    .dataframe tbody tr th {\n",
              "        vertical-align: top;\n",
              "    }\n",
              "\n",
              "    .dataframe thead th {\n",
              "        text-align: right;\n",
              "    }\n",
              "</style>\n",
              "<table border=\"1\" class=\"dataframe\">\n",
              "  <thead>\n",
              "    <tr style=\"text-align: right;\">\n",
              "      <th></th>\n",
              "      <th>action1</th>\n",
              "      <th>action2</th>\n",
              "      <th>action3</th>\n",
              "      <th>romantic1</th>\n",
              "      <th>romantic2</th>\n",
              "      <th>romantic3</th>\n",
              "    </tr>\n",
              "  </thead>\n",
              "  <tbody>\n",
              "    <tr>\n",
              "      <th>user 1</th>\n",
              "      <td>4.0</td>\n",
              "      <td>5.0</td>\n",
              "      <td>3.0</td>\n",
              "      <td>0.0</td>\n",
              "      <td>2.0</td>\n",
              "      <td>1.0</td>\n",
              "    </tr>\n",
              "    <tr>\n",
              "      <th>user 2</th>\n",
              "      <td>5.0</td>\n",
              "      <td>3.0</td>\n",
              "      <td>3.0</td>\n",
              "      <td>2.0</td>\n",
              "      <td>2.0</td>\n",
              "      <td>0.0</td>\n",
              "    </tr>\n",
              "    <tr>\n",
              "      <th>user 3</th>\n",
              "      <td>1.0</td>\n",
              "      <td>0.0</td>\n",
              "      <td>0.0</td>\n",
              "      <td>4.0</td>\n",
              "      <td>5.0</td>\n",
              "      <td>4.0</td>\n",
              "    </tr>\n",
              "    <tr>\n",
              "      <th>user 4</th>\n",
              "      <td>0.0</td>\n",
              "      <td>2.0</td>\n",
              "      <td>1.0</td>\n",
              "      <td>4.0</td>\n",
              "      <td>0.0</td>\n",
              "      <td>3.0</td>\n",
              "    </tr>\n",
              "    <tr>\n",
              "      <th>user 5</th>\n",
              "      <td>1.0</td>\n",
              "      <td>0.0</td>\n",
              "      <td>2.0</td>\n",
              "      <td>3.0</td>\n",
              "      <td>3.0</td>\n",
              "      <td>4.0</td>\n",
              "    </tr>\n",
              "  </tbody>\n",
              "</table>\n",
              "</div>"
            ],
            "text/plain": [
              "        action1  action2  action3  romantic1  romantic2  romantic3\n",
              "user 1      4.0      5.0      3.0        0.0        2.0        1.0\n",
              "user 2      5.0      3.0      3.0        2.0        2.0        0.0\n",
              "user 3      1.0      0.0      0.0        4.0        5.0        4.0\n",
              "user 4      0.0      2.0      1.0        4.0        0.0        3.0\n",
              "user 5      1.0      0.0      2.0        3.0        3.0        4.0"
            ]
          },
          "execution_count": 20,
          "metadata": {},
          "output_type": "execute_result"
        }
      ],
      "source": [
        "ratings=pd.read_csv('toy.txt', index_col=0)\n",
        "ratings = ratings.fillna(0)\n",
        "ratings"
      ]
    },
    {
      "cell_type": "code",
      "execution_count": null,
      "id": "b07e1ee2",
      "metadata": {
        "id": "b07e1ee2",
        "outputId": "d7e2ae23-8357-4153-f2fc-ae461d3b3a2d"
      },
      "outputs": [
        {
          "name": "stdout",
          "output_type": "stream",
          "text": [
            "[[ 1.          0.70668875  0.81368151 -0.79941088 -0.02539184 -0.91410609]\n",
            " [ 0.70668875  1.          0.72310153 -0.84515425 -0.5189993  -0.84337386]\n",
            " [ 0.81368151  0.72310153  1.         -0.84794611 -0.3799803  -0.80218063]\n",
            " [-0.79941088 -0.84515425 -0.84794611  1.          0.14803913  0.72374686]\n",
            " [-0.02539184 -0.5189993  -0.3799803   0.14803913  1.          0.39393939]\n",
            " [-0.91410609 -0.84337386 -0.80218063  0.72374686  0.39393939  1.        ]]\n"
          ]
        }
      ],
      "source": [
        "def standardize(row):\n",
        "    new_row = (row - row.mean())/(row.max() - row.min())\n",
        "    return new_row\n",
        "ratings_std = ratings.apply(standardize)\n",
        "item_similarity = cosine_similarity(ratings_std.T)\n",
        "print(item_similarity)"
      ]
    },
    {
      "cell_type": "code",
      "execution_count": null,
      "id": "9b14a460",
      "metadata": {
        "id": "9b14a460",
        "outputId": "f914684d-48d7-4ccd-d963-2ba35d673a4f"
      },
      "outputs": [
        {
          "data": {
            "text/html": [
              "<div>\n",
              "<style scoped>\n",
              "    .dataframe tbody tr th:only-of-type {\n",
              "        vertical-align: middle;\n",
              "    }\n",
              "\n",
              "    .dataframe tbody tr th {\n",
              "        vertical-align: top;\n",
              "    }\n",
              "\n",
              "    .dataframe thead th {\n",
              "        text-align: right;\n",
              "    }\n",
              "</style>\n",
              "<table border=\"1\" class=\"dataframe\">\n",
              "  <thead>\n",
              "    <tr style=\"text-align: right;\">\n",
              "      <th></th>\n",
              "      <th>action1</th>\n",
              "      <th>action2</th>\n",
              "      <th>action3</th>\n",
              "      <th>romantic1</th>\n",
              "      <th>romantic2</th>\n",
              "      <th>romantic3</th>\n",
              "    </tr>\n",
              "  </thead>\n",
              "  <tbody>\n",
              "    <tr>\n",
              "      <th>action1</th>\n",
              "      <td>1.000000</td>\n",
              "      <td>0.706689</td>\n",
              "      <td>0.813682</td>\n",
              "      <td>-0.799411</td>\n",
              "      <td>-0.025392</td>\n",
              "      <td>-0.914106</td>\n",
              "    </tr>\n",
              "    <tr>\n",
              "      <th>action2</th>\n",
              "      <td>0.706689</td>\n",
              "      <td>1.000000</td>\n",
              "      <td>0.723102</td>\n",
              "      <td>-0.845154</td>\n",
              "      <td>-0.518999</td>\n",
              "      <td>-0.843374</td>\n",
              "    </tr>\n",
              "    <tr>\n",
              "      <th>action3</th>\n",
              "      <td>0.813682</td>\n",
              "      <td>0.723102</td>\n",
              "      <td>1.000000</td>\n",
              "      <td>-0.847946</td>\n",
              "      <td>-0.379980</td>\n",
              "      <td>-0.802181</td>\n",
              "    </tr>\n",
              "    <tr>\n",
              "      <th>romantic1</th>\n",
              "      <td>-0.799411</td>\n",
              "      <td>-0.845154</td>\n",
              "      <td>-0.847946</td>\n",
              "      <td>1.000000</td>\n",
              "      <td>0.148039</td>\n",
              "      <td>0.723747</td>\n",
              "    </tr>\n",
              "    <tr>\n",
              "      <th>romantic2</th>\n",
              "      <td>-0.025392</td>\n",
              "      <td>-0.518999</td>\n",
              "      <td>-0.379980</td>\n",
              "      <td>0.148039</td>\n",
              "      <td>1.000000</td>\n",
              "      <td>0.393939</td>\n",
              "    </tr>\n",
              "    <tr>\n",
              "      <th>romantic3</th>\n",
              "      <td>-0.914106</td>\n",
              "      <td>-0.843374</td>\n",
              "      <td>-0.802181</td>\n",
              "      <td>0.723747</td>\n",
              "      <td>0.393939</td>\n",
              "      <td>1.000000</td>\n",
              "    </tr>\n",
              "  </tbody>\n",
              "</table>\n",
              "</div>"
            ],
            "text/plain": [
              "            action1   action2   action3  romantic1  romantic2  romantic3\n",
              "action1    1.000000  0.706689  0.813682  -0.799411  -0.025392  -0.914106\n",
              "action2    0.706689  1.000000  0.723102  -0.845154  -0.518999  -0.843374\n",
              "action3    0.813682  0.723102  1.000000  -0.847946  -0.379980  -0.802181\n",
              "romantic1 -0.799411 -0.845154 -0.847946   1.000000   0.148039   0.723747\n",
              "romantic2 -0.025392 -0.518999 -0.379980   0.148039   1.000000   0.393939\n",
              "romantic3 -0.914106 -0.843374 -0.802181   0.723747   0.393939   1.000000"
            ]
          },
          "execution_count": 23,
          "metadata": {},
          "output_type": "execute_result"
        }
      ],
      "source": [
        "item_similarity_df = pd.DataFrame(item_similarity,index=ratings.columns,columns=ratings.columns)\n",
        "item_similarity_df"
      ]
    },
    {
      "cell_type": "code",
      "execution_count": null,
      "id": "93c1aaa4",
      "metadata": {
        "id": "93c1aaa4",
        "outputId": "64a4485c-d72b-49ad-bb90-f7e4f5c8cf8f"
      },
      "outputs": [
        {
          "name": "stdout",
          "output_type": "stream",
          "text": [
            "action1      5.000000\n",
            "action3      4.068408\n",
            "action2      3.533444\n",
            "romantic2   -0.126959\n",
            "romantic1   -3.997054\n",
            "romantic3   -4.570530\n",
            "Name: action1, dtype: float64\n"
          ]
        }
      ],
      "source": [
        "def get_similar_movies(movie_name,user_rating):\n",
        "    similar_score = item_similarity_df[movie_name]*user_rating\n",
        "    similar_score = similar_score.sort_values(ascending=False)\n",
        "    \n",
        "    return similar_score\n",
        "print(get_similar_movies('action1',5))"
      ]
    },
    {
      "cell_type": "code",
      "execution_count": null,
      "id": "89761a31",
      "metadata": {
        "id": "89761a31",
        "outputId": "a69895c3-d598-4964-9cce-99bb1dfa5863"
      },
      "outputs": [
        {
          "name": "stderr",
          "output_type": "stream",
          "text": [
            "C:\\Users\\HP\\AppData\\Local\\Temp\\ipykernel_9972\\1669153422.py:4: FutureWarning: The frame.append method is deprecated and will be removed from pandas in a future version. Use pandas.concat instead.\n",
            "  similar_movies = similar_movies.append(get_similar_movies(movie,rating),ignore_index = True)\n",
            "C:\\Users\\HP\\AppData\\Local\\Temp\\ipykernel_9972\\1669153422.py:4: FutureWarning: The frame.append method is deprecated and will be removed from pandas in a future version. Use pandas.concat instead.\n",
            "  similar_movies = similar_movies.append(get_similar_movies(movie,rating),ignore_index = True)\n",
            "C:\\Users\\HP\\AppData\\Local\\Temp\\ipykernel_9972\\1669153422.py:4: FutureWarning: The frame.append method is deprecated and will be removed from pandas in a future version. Use pandas.concat instead.\n",
            "  similar_movies = similar_movies.append(get_similar_movies(movie,rating),ignore_index = True)\n"
          ]
        },
        {
          "data": {
            "text/plain": [
              "action1      4.060502\n",
              "action3      2.886247\n",
              "action2      2.171071\n",
              "romantic2    1.266980\n",
              "romantic1   -3.125268\n",
              "romantic3   -3.176591\n",
              "dtype: float64"
            ]
          },
          "execution_count": 38,
          "metadata": {},
          "output_type": "execute_result"
        }
      ],
      "source": [
        "action_lover = [(\"action1\",5),(\"romantic2\",1),(\"romantic3\",1)]\n",
        "similar_movies = pd.DataFrame()\n",
        "for movie,rating in action_lover:\n",
        "    similar_movies = similar_movies.append(get_similar_movies(movie,rating),ignore_index = True)\n",
        "\n",
        "similar_movies.head()\n",
        "similar_movies.sum().sort_values(ascending=False)"
      ]
    },
    {
      "cell_type": "code",
      "execution_count": null,
      "id": "117f8390",
      "metadata": {
        "id": "117f8390"
      },
      "outputs": [],
      "source": []
    }
  ],
  "metadata": {
    "kernelspec": {
      "display_name": "Python 3 (ipykernel)",
      "language": "python",
      "name": "python3"
    },
    "language_info": {
      "codemirror_mode": {
        "name": "ipython",
        "version": 3
      },
      "file_extension": ".py",
      "mimetype": "text/x-python",
      "name": "python",
      "nbconvert_exporter": "python",
      "pygments_lexer": "ipython3",
      "version": "3.9.13"
    },
    "colab": {
      "provenance": [],
      "include_colab_link": true
    }
  },
  "nbformat": 4,
  "nbformat_minor": 5
}