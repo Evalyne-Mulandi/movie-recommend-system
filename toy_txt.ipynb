{
  "nbformat": 4,
  "nbformat_minor": 0,
  "metadata": {
    "colab": {
      "provenance": [],
      "authorship_tag": "ABX9TyNiqD0NXNqqJGjpdv/Y2QWB",
      "include_colab_link": true
    },
    "kernelspec": {
      "name": "python3",
      "display_name": "Python 3"
    },
    "language_info": {
      "name": "python"
    }
  },
  "cells": [
    {
      "cell_type": "markdown",
      "metadata": {
        "id": "view-in-github",
        "colab_type": "text"
      },
      "source": [
        "<a href=\"https://colab.research.google.com/github/Evalyne-Mulandi/movie-recommend-system/blob/main/toy_txt.ipynb\" target=\"_parent\"><img src=\"https://colab.research.google.com/assets/colab-badge.svg\" alt=\"Open In Colab\"/></a>"
      ]
    },
    {
      "cell_type": "code",
      "execution_count": null,
      "metadata": {
        "id": "5jDinDUW1zHX"
      },
      "outputs": [],
      "source": []
    },
    {
      "cell_type": "markdown",
      "source": [
        ",action1,action2,action3,romantic1,romantic2,romantic3\n",
        "user 1,4,5,3,,2,1\n",
        "user 2,5,3,3,2,2,\n",
        "user 3,1,,,4,5,4\n",
        "user 4,,2,1,4,,3\n",
        "user 5,1,,2,3,3,4"
      ],
      "metadata": {
        "id": "PC3GHBd21z8Q"
      }
    }
  ]
}